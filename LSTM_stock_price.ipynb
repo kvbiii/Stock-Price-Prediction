{
  "nbformat": 4,
  "nbformat_minor": 0,
  "metadata": {
    "colab": {
      "name": "Untitled0.ipynb",
      "provenance": [],
      "authorship_tag": "ABX9TyO0Ujc6oNbH18oou7j2SbwY",
      "include_colab_link": true
    },
    "kernelspec": {
      "name": "python3",
      "display_name": "Python 3"
    },
    "language_info": {
      "name": "python"
    }
  },
  "cells": [
    {
      "cell_type": "markdown",
      "metadata": {
        "id": "view-in-github",
        "colab_type": "text"
      },
      "source": [
        "<a href=\"https://colab.research.google.com/github/kvbiii/Stock-Price-Prediction/blob/main/LSTM_stock_price.ipynb\" target=\"_parent\"><img src=\"https://colab.research.google.com/assets/colab-badge.svg\" alt=\"Open In Colab\"/></a>"
      ]
    },
    {
      "cell_type": "markdown",
      "source": [
        "#**Introduction**\n",
        "Forecasting stock prices plays an important role in setting a trading strategy or determining the appropriate timing for buying or selling a stock. In this project, I used a model, called LSTM - long short-term memory model. "
      ],
      "metadata": {
        "id": "xXH9Ij9ybsIJ"
      }
    },
    {
      "cell_type": "markdown",
      "source": [
        "#**Importing the libraries**"
      ],
      "metadata": {
        "id": "9-ExcsKPdPOw"
      }
    },
    {
      "cell_type": "code",
      "source": [
        "!pip install yfinance\n",
        "import yfinance as yf\n",
        "import pandas as pd \n",
        "import numpy as np  \n",
        "import datetime as dt\n",
        "import pandas_datareader as web\n",
        "import matplotlib.pyplot as plt\n",
        "plt.style.use('fivethirtyeight')\n",
        "import math \n",
        "import seaborn as sns\n",
        "from scipy import stats\n",
        "from sklearn.preprocessing import StandardScaler\n",
        "from keras.models import Sequential\n",
        "from keras.layers import Dense, LSTM\n",
        "from sklearn.metrics import mean_squared_error"
      ],
      "metadata": {
        "colab": {
          "base_uri": "https://localhost:8080/"
        },
        "id": "sV7eo3O2dZPH",
        "outputId": "dbd24088-53bb-433e-8343-b9ab5ec98e7d"
      },
      "execution_count": 91,
      "outputs": [
        {
          "output_type": "stream",
          "name": "stdout",
          "text": [
            "Looking in indexes: https://pypi.org/simple, https://us-python.pkg.dev/colab-wheels/public/simple/\n",
            "Requirement already satisfied: yfinance in /usr/local/lib/python3.7/dist-packages (0.1.70)\n",
            "Requirement already satisfied: multitasking>=0.0.7 in /usr/local/lib/python3.7/dist-packages (from yfinance) (0.0.10)\n",
            "Requirement already satisfied: requests>=2.26 in /usr/local/lib/python3.7/dist-packages (from yfinance) (2.28.0)\n",
            "Requirement already satisfied: lxml>=4.5.1 in /usr/local/lib/python3.7/dist-packages (from yfinance) (4.9.0)\n",
            "Requirement already satisfied: numpy>=1.15 in /usr/local/lib/python3.7/dist-packages (from yfinance) (1.21.6)\n",
            "Requirement already satisfied: pandas>=0.24.0 in /usr/local/lib/python3.7/dist-packages (from yfinance) (1.3.5)\n",
            "Requirement already satisfied: pytz>=2017.3 in /usr/local/lib/python3.7/dist-packages (from pandas>=0.24.0->yfinance) (2022.1)\n",
            "Requirement already satisfied: python-dateutil>=2.7.3 in /usr/local/lib/python3.7/dist-packages (from pandas>=0.24.0->yfinance) (2.8.2)\n",
            "Requirement already satisfied: six>=1.5 in /usr/local/lib/python3.7/dist-packages (from python-dateutil>=2.7.3->pandas>=0.24.0->yfinance) (1.15.0)\n",
            "Requirement already satisfied: charset-normalizer~=2.0.0 in /usr/local/lib/python3.7/dist-packages (from requests>=2.26->yfinance) (2.0.12)\n",
            "Requirement already satisfied: idna<4,>=2.5 in /usr/local/lib/python3.7/dist-packages (from requests>=2.26->yfinance) (2.10)\n",
            "Requirement already satisfied: urllib3<1.27,>=1.21.1 in /usr/local/lib/python3.7/dist-packages (from requests>=2.26->yfinance) (1.24.3)\n",
            "Requirement already satisfied: certifi>=2017.4.17 in /usr/local/lib/python3.7/dist-packages (from requests>=2.26->yfinance) (2022.5.18.1)\n"
          ]
        }
      ]
    },
    {
      "cell_type": "markdown",
      "source": [
        "Company that we want to see prediction for"
      ],
      "metadata": {
        "id": "LmSHg73Edm4q"
      }
    },
    {
      "cell_type": "code",
      "source": [
        "company = 'AAPL'\n",
        "prediction_days = 60"
      ],
      "metadata": {
        "id": "dOHZm3Rbd0Vd"
      },
      "execution_count": 92,
      "outputs": []
    },
    {
      "cell_type": "markdown",
      "source": [
        "Starting and ending dates of the data which will be imported"
      ],
      "metadata": {
        "id": "yVLO3CmNd5XT"
      }
    },
    {
      "cell_type": "code",
      "source": [
        "start = dt.datetime(2000, 1, 1)\n",
        "end = dt.datetime.now()"
      ],
      "metadata": {
        "id": "XfNWTg4fd-y5"
      },
      "execution_count": 93,
      "outputs": []
    },
    {
      "cell_type": "markdown",
      "source": [
        "Importing data"
      ],
      "metadata": {
        "id": "lBbUVwV5eBFo"
      }
    },
    {
      "cell_type": "code",
      "source": [
        "df = yf.download(company, start, end)"
      ],
      "metadata": {
        "colab": {
          "base_uri": "https://localhost:8080/"
        },
        "id": "FSds_lWaeDqW",
        "outputId": "a3d057b7-b6cb-4c69-d127-3aae81bcf960"
      },
      "execution_count": 94,
      "outputs": [
        {
          "output_type": "stream",
          "name": "stdout",
          "text": [
            "\r[*********************100%***********************]  1 of 1 completed\n"
          ]
        }
      ]
    },
    {
      "cell_type": "markdown",
      "source": [
        "Creating a new data frame with only 'Close' prices"
      ],
      "metadata": {
        "id": "pzjRUJR3fNsA"
      }
    },
    {
      "cell_type": "code",
      "source": [
        "data = df.filter(['Close'])"
      ],
      "metadata": {
        "id": "RT15McjefQH3"
      },
      "execution_count": 95,
      "outputs": []
    },
    {
      "cell_type": "markdown",
      "source": [
        "Converting data frame to array"
      ],
      "metadata": {
        "id": "wzW6R55OfWZQ"
      }
    },
    {
      "cell_type": "code",
      "source": [
        "dataset = data.values"
      ],
      "metadata": {
        "id": "ygSDzC2EfaR_"
      },
      "execution_count": 96,
      "outputs": []
    },
    {
      "cell_type": "markdown",
      "source": [
        "Scaling the data"
      ],
      "metadata": {
        "id": "W6eyAmjWfdqU"
      }
    },
    {
      "cell_type": "code",
      "source": [
        "scaler = StandardScaler()\n",
        "scaled_data = scaler.fit_transform(dataset)\n",
        "training_data_len = math.ceil(len(dataset) * 0.95)"
      ],
      "metadata": {
        "id": "zVnr38Sifg8l"
      },
      "execution_count": 97,
      "outputs": []
    },
    {
      "cell_type": "markdown",
      "source": [
        "Creating scaled training data"
      ],
      "metadata": {
        "id": "NkmkNhspgWgh"
      }
    },
    {
      "cell_type": "code",
      "source": [
        "train_data = scaled_data[0:training_data_len , :]"
      ],
      "metadata": {
        "id": "v0TbYz56gXHm"
      },
      "execution_count": 98,
      "outputs": []
    },
    {
      "cell_type": "markdown",
      "source": [
        "Spliting the data into x_train and y_train"
      ],
      "metadata": {
        "id": "H_PxA9EJgXSh"
      }
    },
    {
      "cell_type": "code",
      "source": [
        "x_train = []\n",
        "y_train = []\n",
        "for i in range(prediction_days, len(train_data)):\n",
        "    x_train.append(train_data[i-prediction_days:i, 0])\n",
        "    y_train.append(train_data[i, 0])"
      ],
      "metadata": {
        "id": "KRSw0bCBgXak"
      },
      "execution_count": 99,
      "outputs": []
    },
    {
      "cell_type": "markdown",
      "source": [
        "Converting x_train and y_train to arrays"
      ],
      "metadata": {
        "id": "fzww04FagXgn"
      }
    },
    {
      "cell_type": "code",
      "source": [
        "x_train, y_train = np.array(x_train), np.array(y_train)"
      ],
      "metadata": {
        "id": "yaC9EvVLgXmr"
      },
      "execution_count": 100,
      "outputs": []
    },
    {
      "cell_type": "markdown",
      "source": [
        "Reshaping x_train"
      ],
      "metadata": {
        "id": "DuoM6dHRgXrO"
      }
    },
    {
      "cell_type": "code",
      "source": [
        "x_train = np.reshape(x_train, (x_train.shape[0], x_train.shape[1], 1))"
      ],
      "metadata": {
        "id": "D_EmbFSMgXwC"
      },
      "execution_count": 101,
      "outputs": []
    },
    {
      "cell_type": "markdown",
      "source": [
        "# **Creating the LSTM model**"
      ],
      "metadata": {
        "id": "gHQSr12mgX3S"
      }
    },
    {
      "cell_type": "code",
      "source": [
        "model = Sequential()\n",
        "model.add(LSTM(50, return_sequences=True, input_shape = (x_train.shape[1], 1)))\n",
        "model.add(LSTM(50, return_sequences=False))\n",
        "model.add(Dense(25))\n",
        "model.add(Dense(1))"
      ],
      "metadata": {
        "id": "R8AXIMcsgX8i"
      },
      "execution_count": 102,
      "outputs": []
    },
    {
      "cell_type": "markdown",
      "source": [
        "Compiling the model"
      ],
      "metadata": {
        "id": "3fw8UKa9g0ap"
      }
    },
    {
      "cell_type": "code",
      "source": [
        "model.compile(optimizer = 'adam', loss = 'mean_squared_error')"
      ],
      "metadata": {
        "id": "cc805Jaig0i7"
      },
      "execution_count": 103,
      "outputs": []
    },
    {
      "cell_type": "markdown",
      "source": [
        "Training the model"
      ],
      "metadata": {
        "id": "9LFfzbHyg0qB"
      }
    },
    {
      "cell_type": "code",
      "source": [
        "model.fit(x_train, y_train, batch_size = 1, epochs = 1)"
      ],
      "metadata": {
        "colab": {
          "base_uri": "https://localhost:8080/"
        },
        "id": "17TqKi4Gg0vf",
        "outputId": "8fe933c7-68a5-4e0e-ca07-b7daec033832"
      },
      "execution_count": 104,
      "outputs": [
        {
          "output_type": "stream",
          "name": "stdout",
          "text": [
            "5306/5306 [==============================] - 174s 32ms/step - loss: 0.0057\n"
          ]
        },
        {
          "output_type": "execute_result",
          "data": {
            "text/plain": [
              "<keras.callbacks.History at 0x7fb26e236910>"
            ]
          },
          "metadata": {},
          "execution_count": 104
        }
      ]
    },
    {
      "cell_type": "markdown",
      "source": [
        "Creating testing data"
      ],
      "metadata": {
        "id": "7HZ7jsm6g00c"
      }
    },
    {
      "cell_type": "code",
      "source": [
        "test_data = scaled_data[training_data_len - prediction_days: , :]"
      ],
      "metadata": {
        "id": "0UR81_AVg05h"
      },
      "execution_count": 105,
      "outputs": []
    },
    {
      "cell_type": "markdown",
      "source": [
        "Creating x_test and y_test"
      ],
      "metadata": {
        "id": "zeFFucfFg09l"
      }
    },
    {
      "cell_type": "code",
      "source": [
        "x_test = []\n",
        "y_test = dataset[training_data_len:]\n",
        "for i in range(prediction_days, len(test_data)):\n",
        "    x_test.append(test_data[i-prediction_days:i, 0])"
      ],
      "metadata": {
        "id": "TWrrYlwtg1CL"
      },
      "execution_count": 106,
      "outputs": []
    },
    {
      "cell_type": "markdown",
      "source": [
        "Converting x_test to array"
      ],
      "metadata": {
        "id": "TQDhYiXpg1F6"
      }
    },
    {
      "cell_type": "code",
      "source": [
        "x_test = np.array(x_test)"
      ],
      "metadata": {
        "id": "0_17212cg1Km"
      },
      "execution_count": 107,
      "outputs": []
    },
    {
      "cell_type": "markdown",
      "source": [
        "Reshaping x_test"
      ],
      "metadata": {
        "id": "C9KsQyBSg1Oe"
      }
    },
    {
      "cell_type": "code",
      "source": [
        "x_test = np.reshape(x_test, (x_test.shape[0], x_test.shape[1], 1))"
      ],
      "metadata": {
        "id": "ytWMZMyhg1TQ"
      },
      "execution_count": 108,
      "outputs": []
    },
    {
      "cell_type": "markdown",
      "source": [
        "# **Getting the model predictions**"
      ],
      "metadata": {
        "id": "h73y80HRg1W_"
      }
    },
    {
      "cell_type": "code",
      "source": [
        "predictions = model.predict(x_test)\n",
        "predictions = scaler.inverse_transform(predictions)\n",
        "train = data[:training_data_len]\n",
        "valid = data[training_data_len:]\n",
        "valid['Predictions'] = predictions"
      ],
      "metadata": {
        "colab": {
          "base_uri": "https://localhost:8080/"
        },
        "id": "8p3X_x7Dg1bT",
        "outputId": "d38477d9-d7ce-4687-fc49-73b97ab8498c"
      },
      "execution_count": 109,
      "outputs": [
        {
          "output_type": "stream",
          "name": "stderr",
          "text": [
            "/usr/local/lib/python3.7/dist-packages/ipykernel_launcher.py:5: SettingWithCopyWarning: \n",
            "A value is trying to be set on a copy of a slice from a DataFrame.\n",
            "Try using .loc[row_indexer,col_indexer] = value instead\n",
            "\n",
            "See the caveats in the documentation: https://pandas.pydata.org/pandas-docs/stable/user_guide/indexing.html#returning-a-view-versus-a-copy\n",
            "  \"\"\"\n"
          ]
        }
      ]
    },
    {
      "cell_type": "markdown",
      "source": [
        "# **Creating new data frame to see what price the model will predict for future**"
      ],
      "metadata": {
        "id": "rqj-5sB9ipgQ"
      }
    },
    {
      "cell_type": "code",
      "source": [
        "test_start = dt.datetime(2015, 1, 1)\n",
        "test_end = dt.datetime.now()\n",
        "new_df = yf.download(company, test_start, test_end)\n",
        "new_data = new_df.filter(['Close'])"
      ],
      "metadata": {
        "colab": {
          "base_uri": "https://localhost:8080/"
        },
        "id": "R7GzlVjGg1jp",
        "outputId": "371f709c-e61f-4ba2-a119-a8bbf866c7d8"
      },
      "execution_count": 110,
      "outputs": [
        {
          "output_type": "stream",
          "name": "stdout",
          "text": [
            "\r[*********************100%***********************]  1 of 1 completed\n"
          ]
        }
      ]
    },
    {
      "cell_type": "markdown",
      "source": [
        "Creating model predictions for future"
      ],
      "metadata": {
        "id": "cZpasNZPg1oU"
      }
    },
    {
      "cell_type": "code",
      "source": [
        "forecast_out = int(math.ceil(0.01*len(new_data)))\n",
        "X_lately = x_test[-forecast_out:]\n",
        "y_predict = model.predict(X_lately)\n",
        "y_predict = scaler.inverse_transform(y_predict)"
      ],
      "metadata": {
        "id": "IKJb1O-Wg10i"
      },
      "execution_count": 111,
      "outputs": []
    },
    {
      "cell_type": "markdown",
      "source": [
        "Getting the last 60 days and converting that to new data frame"
      ],
      "metadata": {
        "id": "It-AJV4-jPi_"
      }
    },
    {
      "cell_type": "code",
      "source": [
        "last_60_days = new_data[-prediction_days:].values"
      ],
      "metadata": {
        "id": "RBSDv_MljPpZ"
      },
      "execution_count": 112,
      "outputs": []
    },
    {
      "cell_type": "markdown",
      "source": [
        "Scaling the data"
      ],
      "metadata": {
        "id": "WXbCnjEbjPtJ"
      }
    },
    {
      "cell_type": "code",
      "source": [
        "last_60_days_scaled = scaler.transform(last_60_days)"
      ],
      "metadata": {
        "id": "LbUexMEPjPxz"
      },
      "execution_count": 113,
      "outputs": []
    },
    {
      "cell_type": "markdown",
      "source": [
        "New X_test"
      ],
      "metadata": {
        "id": "qaOo5z4jjP1n"
      }
    },
    {
      "cell_type": "code",
      "source": [
        "X_test = []\n",
        "X_test.append(last_60_days_scaled)"
      ],
      "metadata": {
        "id": "nD4dqzi9jP5j"
      },
      "execution_count": 114,
      "outputs": []
    },
    {
      "cell_type": "markdown",
      "source": [
        "Converting X_test to array"
      ],
      "metadata": {
        "id": "PjRGIXFcjP9O"
      }
    },
    {
      "cell_type": "code",
      "source": [
        "X_test = np.array(X_test)"
      ],
      "metadata": {
        "id": "B48sGoxtjQBo"
      },
      "execution_count": 115,
      "outputs": []
    },
    {
      "cell_type": "markdown",
      "source": [
        "Reshaping X_test"
      ],
      "metadata": {
        "id": "yu1r0cARjQFR"
      }
    },
    {
      "cell_type": "code",
      "source": [
        "X_test = np.reshape(X_test, (X_test.shape[0], X_test.shape[1], 1))"
      ],
      "metadata": {
        "id": "--FzwIMPjQI6"
      },
      "execution_count": 116,
      "outputs": []
    },
    {
      "cell_type": "markdown",
      "source": [
        "Getting the root mean squared error (RMSE) which is the standard deviation of the prediction errors"
      ],
      "metadata": {
        "id": "ddnv38xbjQMV"
      }
    },
    {
      "cell_type": "code",
      "source": [
        "print('Mean squared error is: {}'.format(mean_squared_error(y_test, predictions)))"
      ],
      "metadata": {
        "colab": {
          "base_uri": "https://localhost:8080/"
        },
        "id": "zMavX-IsjQQD",
        "outputId": "ed1c3e8f-44c4-4305-ad67-1400f2030807"
      },
      "execution_count": 117,
      "outputs": [
        {
          "output_type": "stream",
          "name": "stdout",
          "text": [
            "Mean squared error is: 63.34734052043996\n"
          ]
        }
      ]
    },
    {
      "cell_type": "markdown",
      "source": [
        "Creating the value which is a correlation between real price and our model predicted price"
      ],
      "metadata": {
        "id": "u7s4dxwAjQUq"
      }
    },
    {
      "cell_type": "code",
      "source": [
        "corr_price, p = stats.pearsonr(valid['Close'].values, valid['Predictions'].values)\n",
        "print(\"Correlation between actual price and predicted by our model price is: {}\".format(corr_price))"
      ],
      "metadata": {
        "colab": {
          "base_uri": "https://localhost:8080/"
        },
        "id": "O42C3ydWjQXR",
        "outputId": "68594946-7f2a-4120-a9fc-35d226bd1bb0"
      },
      "execution_count": 118,
      "outputs": [
        {
          "output_type": "stream",
          "name": "stdout",
          "text": [
            "Correlation between actual price and predicted by our model price is: 0.9739902754267097\n"
          ]
        }
      ]
    },
    {
      "cell_type": "markdown",
      "source": [
        "Recreating my arrays to create summarizing data frame"
      ],
      "metadata": {
        "id": "oU-LaMDVkdw2"
      }
    },
    {
      "cell_type": "code",
      "source": [
        "y_test = y_test.flatten().tolist()\n",
        "predictions = predictions.flatten().tolist()\n",
        "columns =  ['Close_actual', 'Close_pred']\n",
        "df_pred_LSTM = pd.DataFrame(list(zip(y_test, predictions)), columns = columns)\n",
        "df_pred_LSTM['diff'] = df_pred_LSTM.Close_actual.values - df_pred_LSTM.Close_pred.values\n",
        "df_pred_LSTM['perc_diff'] = ((df_pred_LSTM['diff']) / (df_pred_LSTM['Close_pred']))*100\n",
        "print(df_pred_LSTM)"
      ],
      "metadata": {
        "colab": {
          "base_uri": "https://localhost:8080/"
        },
        "id": "jjJNWN8_kdEZ",
        "outputId": "397c0658-0a1e-4f02-8ed9-ecdee0046a3d"
      },
      "execution_count": 119,
      "outputs": [
        {
          "output_type": "stream",
          "name": "stdout",
          "text": [
            "     Close_actual  Close_pred      diff  perc_diff\n",
            "0      132.539993  130.906937  1.633057   1.247494\n",
            "1      127.849998  130.542847 -2.692848  -2.062808\n",
            "2      128.100006  129.080124 -0.980118  -0.759310\n",
            "3      129.740005  127.809456  1.930550   1.510490\n",
            "4      130.210007  127.388191  2.821815   2.215131\n",
            "..            ...         ...       ...        ...\n",
            "277    148.710007  143.200623  5.509384   3.847319\n",
            "278    147.960007  143.094360  4.865646   3.400306\n",
            "279    142.639999  143.013992 -0.373993  -0.261508\n",
            "280    137.130005  141.606979 -4.476974  -3.161549\n",
            "281    131.880005  138.810654 -6.930649  -4.992880\n",
            "\n",
            "[282 rows x 4 columns]\n"
          ]
        }
      ]
    },
    {
      "cell_type": "markdown",
      "source": [
        "Creating DataFrame of final version"
      ],
      "metadata": {
        "id": "HDje_H4NmHBz"
      }
    },
    {
      "cell_type": "code",
      "source": [
        "a = []\n",
        "for i in range(df_pred_LSTM.index[-1], df_pred_LSTM.index[-1]+forecast_out):\n",
        "    a.append(i)\n",
        "y_predict = y_predict.flatten().tolist()\n",
        "abc = pd.DataFrame({'Future': y_predict}, index = a)\n",
        "df_final = pd.concat([df_pred_LSTM, abc], axis=1)"
      ],
      "metadata": {
        "id": "1dacF3l1keer"
      },
      "execution_count": 120,
      "outputs": []
    },
    {
      "cell_type": "markdown",
      "source": [
        "Final result summary"
      ],
      "metadata": {
        "id": "C5RaKpv5mMTf"
      }
    },
    {
      "cell_type": "code",
      "source": [
        "print('Model predicted for today close: {}, current price is: {}'.format(round(df_pred_LSTM['Close_pred'].iat[-1], 2), round(df_pred_LSTM['Close_actual'].iat[-1], 2)))"
      ],
      "metadata": {
        "colab": {
          "base_uri": "https://localhost:8080/"
        },
        "id": "07R2MRsamM9E",
        "outputId": "293c2146-3b96-4613-867f-e1e892b267e6"
      },
      "execution_count": 121,
      "outputs": [
        {
          "output_type": "stream",
          "name": "stdout",
          "text": [
            "Model predicted for today close: 138.81, current price is: 131.88\n"
          ]
        }
      ]
    },
    {
      "cell_type": "markdown",
      "source": [
        "# **Visualizing the data**"
      ],
      "metadata": {
        "id": "_Snq6CGRmNTl"
      }
    },
    {
      "cell_type": "code",
      "source": [
        "plt.figure(figsize=(16, 8))\n",
        "plt.plot(df_final.Close_pred)\n",
        "plt.plot(df_final.Close_actual)\n",
        "plt.plot(df_final.Future)\n",
        "plt.xlabel('Date', fontsize=18)\n",
        "plt.ylabel('Price ($)', fontsize = 18)\n",
        "plt.legend(['Predictions',  'Actual', 'Future'], loc='lower right')\n",
        "plt.title('LSTM model price prediction for {}'.format(company))\n",
        "plt.show()"
      ],
      "metadata": {
        "colab": {
          "base_uri": "https://localhost:8080/",
          "height": 558
        },
        "id": "9TuuVBkEmOOx",
        "outputId": "1c21dd06-e5f1-45f3-a595-e64ce89fb56d"
      },
      "execution_count": 122,
      "outputs": [
        {
          "output_type": "display_data",
          "data": {
            "text/plain": [
              "<Figure size 1152x576 with 1 Axes>"
            ],
            "image/png": "[encoded data removed]"
          },
          "metadata": {}
        }
      ]
    },
    {
      "cell_type": "code",
      "source": [
        "print(df_final)"
      ],
      "metadata": {
        "colab": {
          "base_uri": "https://localhost:8080/"
        },
        "id": "3ECseifCn7ZS",
        "outputId": "39f9ad4b-c1a9-4807-b739-ff613ce90a04"
      },
      "execution_count": 123,
      "outputs": [
        {
          "output_type": "stream",
          "name": "stdout",
          "text": [
            "     Close_actual  Close_pred      diff  perc_diff      Future\n",
            "0      132.539993  130.906937  1.633057   1.247494         NaN\n",
            "1      127.849998  130.542847 -2.692848  -2.062808         NaN\n",
            "2      128.100006  129.080124 -0.980118  -0.759310         NaN\n",
            "3      129.740005  127.809456  1.930550   1.510490         NaN\n",
            "4      130.210007  127.388191  2.821815   2.215131         NaN\n",
            "..            ...         ...       ...        ...         ...\n",
            "295           NaN         NaN       NaN        NaN  143.200623\n",
            "296           NaN         NaN       NaN        NaN  143.094360\n",
            "297           NaN         NaN       NaN        NaN  143.013992\n",
            "298           NaN         NaN       NaN        NaN  141.606979\n",
            "299           NaN         NaN       NaN        NaN  138.810654\n",
            "\n",
            "[300 rows x 5 columns]\n"
          ]
        }
      ]
    }
  ]
}