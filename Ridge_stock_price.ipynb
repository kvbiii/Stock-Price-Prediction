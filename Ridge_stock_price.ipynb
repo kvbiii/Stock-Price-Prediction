{
  "nbformat": 4,
  "nbformat_minor": 0,
  "metadata": {
    "colab": {
      "name": "Untitled1.ipynb",
      "provenance": [],
      "authorship_tag": "ABX9TyP88zjx+5Ixn5Xc0L2f/cg2",
      "include_colab_link": true
    },
    "kernelspec": {
      "name": "python3",
      "display_name": "Python 3"
    },
    "language_info": {
      "name": "python"
    }
  },
  "cells": [
    {
      "cell_type": "markdown",
      "metadata": {
        "id": "view-in-github",
        "colab_type": "text"
      },
      "source": [
        "<a href=\"https://colab.research.google.com/github/kvbiii/Stock-Price-Prediction/blob/main/Ridge_stock_price.ipynb\" target=\"_parent\"><img src=\"https://colab.research.google.com/assets/colab-badge.svg\" alt=\"Open In Colab\"/></a>"
      ]
    },
    {
      "cell_type": "markdown",
      "source": [
        "# **Introduction**\n",
        "Forecasting stock prices plays an important role in setting a trading strategy or determining the appropriate timing for buying or selling a stock. In this project, I used a model, called Ridge Regression."
      ],
      "metadata": {
        "id": "b9669Xd6pJPx"
      }
    },
    {
      "cell_type": "markdown",
      "source": [
        "# **Importing the libraries**"
      ],
      "metadata": {
        "id": "6hQzK_l3p_n_"
      }
    },
    {
      "cell_type": "code",
      "source": [
        "!pip install yfinance\n",
        "import yfinance as yf\n",
        "import pandas as pd \n",
        "import numpy as np  \n",
        "import datetime as dt\n",
        "import pandas_datareader as web\n",
        "import matplotlib.pyplot as plt\n",
        "plt.style.use('fivethirtyeight')\n",
        "import math \n",
        "import seaborn as sns\n",
        "from scipy import stats\n",
        "from sklearn.linear_model import Ridge\n",
        "from sklearn.preprocessing import StandardScaler\n",
        "from sklearn.metrics import mean_squared_error"
      ],
      "metadata": {
        "colab": {
          "base_uri": "https://localhost:8080/"
        },
        "id": "Wa_gZ4pFp5lw",
        "outputId": "1083b340-eba1-406d-f240-f34a86cde61f"
      },
      "execution_count": 151,
      "outputs": [
        {
          "output_type": "stream",
          "name": "stdout",
          "text": [
            "Looking in indexes: https://pypi.org/simple, https://us-python.pkg.dev/colab-wheels/public/simple/\n",
            "Requirement already satisfied: yfinance in /usr/local/lib/python3.7/dist-packages (0.1.70)\n",
            "Requirement already satisfied: numpy>=1.15 in /usr/local/lib/python3.7/dist-packages (from yfinance) (1.21.6)\n",
            "Requirement already satisfied: requests>=2.26 in /usr/local/lib/python3.7/dist-packages (from yfinance) (2.28.0)\n",
            "Requirement already satisfied: pandas>=0.24.0 in /usr/local/lib/python3.7/dist-packages (from yfinance) (1.3.5)\n",
            "Requirement already satisfied: lxml>=4.5.1 in /usr/local/lib/python3.7/dist-packages (from yfinance) (4.9.0)\n",
            "Requirement already satisfied: multitasking>=0.0.7 in /usr/local/lib/python3.7/dist-packages (from yfinance) (0.0.10)\n",
            "Requirement already satisfied: pytz>=2017.3 in /usr/local/lib/python3.7/dist-packages (from pandas>=0.24.0->yfinance) (2022.1)\n",
            "Requirement already satisfied: python-dateutil>=2.7.3 in /usr/local/lib/python3.7/dist-packages (from pandas>=0.24.0->yfinance) (2.8.2)\n",
            "Requirement already satisfied: six>=1.5 in /usr/local/lib/python3.7/dist-packages (from python-dateutil>=2.7.3->pandas>=0.24.0->yfinance) (1.15.0)\n",
            "Requirement already satisfied: idna<4,>=2.5 in /usr/local/lib/python3.7/dist-packages (from requests>=2.26->yfinance) (2.10)\n",
            "Requirement already satisfied: charset-normalizer~=2.0.0 in /usr/local/lib/python3.7/dist-packages (from requests>=2.26->yfinance) (2.0.12)\n",
            "Requirement already satisfied: certifi>=2017.4.17 in /usr/local/lib/python3.7/dist-packages (from requests>=2.26->yfinance) (2022.5.18.1)\n",
            "Requirement already satisfied: urllib3<1.27,>=1.21.1 in /usr/local/lib/python3.7/dist-packages (from requests>=2.26->yfinance) (1.24.3)\n"
          ]
        }
      ]
    },
    {
      "cell_type": "markdown",
      "source": [
        "Company that we want to see prediction for"
      ],
      "metadata": {
        "id": "J41M-oD0p5sh"
      }
    },
    {
      "cell_type": "code",
      "source": [
        "company = 'AAPL'"
      ],
      "metadata": {
        "id": "znOWJa4Np5zW"
      },
      "execution_count": 152,
      "outputs": []
    },
    {
      "cell_type": "markdown",
      "source": [
        "Starting and ending dates of the data which will be imported"
      ],
      "metadata": {
        "id": "mOkM0EUKp55Q"
      }
    },
    {
      "cell_type": "code",
      "source": [
        "start = dt.datetime(2000, 1, 1)\n",
        "end = dt.datetime.now()"
      ],
      "metadata": {
        "id": "ZbV5yckjp5_g"
      },
      "execution_count": 153,
      "outputs": []
    },
    {
      "cell_type": "markdown",
      "source": [
        "Importing data"
      ],
      "metadata": {
        "id": "iFdoGgbbp6FG"
      }
    },
    {
      "cell_type": "code",
      "source": [
        "df = yf.download(company, start, end)"
      ],
      "metadata": {
        "colab": {
          "base_uri": "https://localhost:8080/"
        },
        "id": "-Ck3IIWHp6K7",
        "outputId": "38a07d91-cdf1-4c4e-d868-7024be1e15bb"
      },
      "execution_count": 154,
      "outputs": [
        {
          "output_type": "stream",
          "name": "stdout",
          "text": [
            "\r[*********************100%***********************]  1 of 1 completed\n"
          ]
        }
      ]
    },
    {
      "cell_type": "markdown",
      "source": [
        "Removing NaN values"
      ],
      "metadata": {
        "id": "McjJxQIxp6QU"
      }
    },
    {
      "cell_type": "code",
      "source": [
        "df.dropna(axis=0, inplace=True)\n",
        "df['Date'] = df.index"
      ],
      "metadata": {
        "id": "7eca8ihbp6Vo"
      },
      "execution_count": 155,
      "outputs": []
    },
    {
      "cell_type": "markdown",
      "source": [
        "Sorting data"
      ],
      "metadata": {
        "id": "iblMv3gOp6aI"
      }
    },
    {
      "cell_type": "code",
      "source": [
        "data = df.sort_index(ascending=True, axis=0)"
      ],
      "metadata": {
        "id": "c7dwd0K8p6et"
      },
      "execution_count": 156,
      "outputs": []
    },
    {
      "cell_type": "markdown",
      "source": [
        "Creating a separate dataset"
      ],
      "metadata": {
        "id": "-K9q1Fygp6i1"
      }
    },
    {
      "cell_type": "code",
      "source": [
        "new_data = pd.DataFrame(index=range(0,len(df)),columns=['Date', 'Close'])\n",
        "\n",
        "for i in range(0,len(data)):\n",
        "    new_data['Date'][i] = data['Date'][i]\n",
        "    new_data['Close'][i] = data['Adj Close'][i]\n",
        "new_data.head()"
      ],
      "metadata": {
        "colab": {
          "base_uri": "https://localhost:8080/",
          "height": 206
        },
        "id": "REvNOgEkp6nE",
        "outputId": "5301841a-5046-471e-a56b-7a680695158d"
      },
      "execution_count": 157,
      "outputs": [
        {
          "output_type": "execute_result",
          "data": {
            "text/plain": [
              "                  Date     Close\n",
              "0  2000-01-03 00:00:00  0.854541\n",
              "1  2000-01-04 00:00:00  0.782494\n",
              "2  2000-01-05 00:00:00  0.793945\n",
              "3  2000-01-06 00:00:00  0.725238\n",
              "4  2000-01-07 00:00:00  0.759592"
            ],
            "text/html": [
              "\n",
              "  <div id=\"df-b8136918-9df0-4865-bded-7ca8a19d9a82\">\n",
              "    <div class=\"colab-df-container\">\n",
              "      <div>\n",
              "<style scoped>\n",
              "    .dataframe tbody tr th:only-of-type {\n",
              "        vertical-align: middle;\n",
              "    }\n",
              "\n",
              "    .dataframe tbody tr th {\n",
              "        vertical-align: top;\n",
              "    }\n",
              "\n",
              "    .dataframe thead th {\n",
              "        text-align: right;\n",
              "    }\n",
              "</style>\n",
              "<table border=\"1\" class=\"dataframe\">\n",
              "  <thead>\n",
              "    <tr style=\"text-align: right;\">\n",
              "      <th></th>\n",
              "      <th>Date</th>\n",
              "      <th>Close</th>\n",
              "    </tr>\n",
              "  </thead>\n",
              "  <tbody>\n",
              "    <tr>\n",
              "      <th>0</th>\n",
              "      <td>2000-01-03 00:00:00</td>\n",
              "      <td>0.854541</td>\n",
              "    </tr>\n",
              "    <tr>\n",
              "      <th>1</th>\n",
              "      <td>2000-01-04 00:00:00</td>\n",
              "      <td>0.782494</td>\n",
              "    </tr>\n",
              "    <tr>\n",
              "      <th>2</th>\n",
              "      <td>2000-01-05 00:00:00</td>\n",
              "      <td>0.793945</td>\n",
              "    </tr>\n",
              "    <tr>\n",
              "      <th>3</th>\n",
              "      <td>2000-01-06 00:00:00</td>\n",
              "      <td>0.725238</td>\n",
              "    </tr>\n",
              "    <tr>\n",
              "      <th>4</th>\n",
              "      <td>2000-01-07 00:00:00</td>\n",
              "      <td>0.759592</td>\n",
              "    </tr>\n",
              "  </tbody>\n",
              "</table>\n",
              "</div>\n",
              "      <button class=\"colab-df-convert\" onclick=\"convertToInteractive('df-b8136918-9df0-4865-bded-7ca8a19d9a82')\"\n",
              "              title=\"Convert this dataframe to an interactive table.\"\n",
              "              style=\"display:none;\">\n",
              "        \n",
              "  <svg xmlns=\"http://www.w3.org/2000/svg\" height=\"24px\"viewBox=\"0 0 24 24\"\n",
              "       width=\"24px\">\n",
              "    <path d=\"M0 0h24v24H0V0z\" fill=\"none\"/>\n",
              "    <path d=\"M18.56 5.44l.94 2.06.94-2.06 2.06-.94-2.06-.94-.94-2.06-.94 2.06-2.06.94zm-11 1L8.5 8.5l.94-2.06 2.06-.94-2.06-.94L8.5 2.5l-.94 2.06-2.06.94zm10 10l.94 2.06.94-2.06 2.06-.94-2.06-.94-.94-2.06-.94 2.06-2.06.94z\"/><path d=\"M17.41 7.96l-1.37-1.37c-.4-.4-.92-.59-1.43-.59-.52 0-1.04.2-1.43.59L10.3 9.45l-7.72 7.72c-.78.78-.78 2.05 0 2.83L4 21.41c.39.39.9.59 1.41.59.51 0 1.02-.2 1.41-.59l7.78-7.78 2.81-2.81c.8-.78.8-2.07 0-2.86zM5.41 20L4 18.59l7.72-7.72 1.47 1.35L5.41 20z\"/>\n",
              "  </svg>\n",
              "      </button>\n",
              "      \n",
              "  <style>\n",
              "    .colab-df-container {\n",
              "      display:flex;\n",
              "      flex-wrap:wrap;\n",
              "      gap: 12px;\n",
              "    }\n",
              "\n",
              "    .colab-df-convert {\n",
              "      background-color: #E8F0FE;\n",
              "      border: none;\n",
              "      border-radius: 50%;\n",
              "      cursor: pointer;\n",
              "      display: none;\n",
              "      fill: #1967D2;\n",
              "      height: 32px;\n",
              "      padding: 0 0 0 0;\n",
              "      width: 32px;\n",
              "    }\n",
              "\n",
              "    .colab-df-convert:hover {\n",
              "      background-color: #E2EBFA;\n",
              "      box-shadow: 0px 1px 2px rgba(60, 64, 67, 0.3), 0px 1px 3px 1px rgba(60, 64, 67, 0.15);\n",
              "      fill: #174EA6;\n",
              "    }\n",
              "\n",
              "    [theme=dark] .colab-df-convert {\n",
              "      background-color: #3B4455;\n",
              "      fill: #D2E3FC;\n",
              "    }\n",
              "\n",
              "    [theme=dark] .colab-df-convert:hover {\n",
              "      background-color: #434B5C;\n",
              "      box-shadow: 0px 1px 3px 1px rgba(0, 0, 0, 0.15);\n",
              "      filter: drop-shadow(0px 1px 2px rgba(0, 0, 0, 0.3));\n",
              "      fill: #FFFFFF;\n",
              "    }\n",
              "  </style>\n",
              "\n",
              "      <script>\n",
              "        const buttonEl =\n",
              "          document.querySelector('#df-b8136918-9df0-4865-bded-7ca8a19d9a82 button.colab-df-convert');\n",
              "        buttonEl.style.display =\n",
              "          google.colab.kernel.accessAllowed ? 'block' : 'none';\n",
              "\n",
              "        async function convertToInteractive(key) {\n",
              "          const element = document.querySelector('#df-b8136918-9df0-4865-bded-7ca8a19d9a82');\n",
              "          const dataTable =\n",
              "            await google.colab.kernel.invokeFunction('convertToInteractive',\n",
              "                                                     [key], {});\n",
              "          if (!dataTable) return;\n",
              "\n",
              "          const docLinkHtml = 'Like what you see? Visit the ' +\n",
              "            '<a target=\"_blank\" href=https://colab.research.google.com/notebooks/data_table.ipynb>data table notebook</a>'\n",
              "            + ' to learn more about interactive tables.';\n",
              "          element.innerHTML = '';\n",
              "          dataTable['output_type'] = 'display_data';\n",
              "          await google.colab.output.renderOutput(dataTable, element);\n",
              "          const docLink = document.createElement('div');\n",
              "          docLink.innerHTML = docLinkHtml;\n",
              "          element.appendChild(docLink);\n",
              "        }\n",
              "      </script>\n",
              "    </div>\n",
              "  </div>\n",
              "  "
            ]
          },
          "metadata": {},
          "execution_count": 157
        }
      ]
    },
    {
      "cell_type": "markdown",
      "source": [
        "Creating a number of features on the Dates"
      ],
      "metadata": {
        "id": "fgvfl98hp6qv"
      }
    },
    {
      "cell_type": "code",
      "source": [
        "new_data['year'] = new_data['Date'].map(lambda x : x.year)\n",
        "new_data['month'] = new_data['Date'].map(lambda x : x.month)\n",
        "new_data['day_week'] = new_data['Date'].map(lambda x : x.dayofweek)\n",
        "new_data['quarter'] = new_data['Date'].map(lambda x : x.quarter)\n",
        "new_data['week'] = new_data['Date'].map(lambda x : x.week)\n",
        "new_data['quarter_start'] = new_data['Date'].map(lambda x : x.is_quarter_start)\n",
        "new_data['quarter_end'] = new_data['Date'].map(lambda x : x.is_quarter_end)\n",
        "new_data['month_start'] = new_data['Date'].map(lambda x : x.is_month_start)\n",
        "new_data['month_end'] = new_data['Date'].map(lambda x : x.is_month_end)\n",
        "new_data['year_start'] = new_data['Date'].map(lambda x : x.is_year_start)\n",
        "new_data['year_end'] = new_data['Date'].map(lambda x : x.is_year_end)\n",
        "new_data['week_year'] = new_data['Date'].map(lambda x : x.weekofyear)\n",
        "new_data['quarter_start'] = new_data['quarter_start'].map(lambda x: 0 if x is False else 1)\n",
        "new_data['quarter_end'] = new_data['quarter_end'].map(lambda x: 0 if x is False else 1)\n",
        "new_data['month_start'] = new_data['month_start'].map(lambda x: 0 if x is False else 1)\n",
        "new_data['month_end'] = new_data['month_end'].map(lambda x: 0 if x is False else 1)\n",
        "new_data['year_start'] = new_data['year_start'].map(lambda x: 0 if x is False else 1)\n",
        "new_data['year_end'] = new_data['year_end'].map(lambda x: 0 if x is False else 1)\n",
        "new_data['day_month'] = new_data['Date'].map(lambda x: x.daysinmonth)"
      ],
      "metadata": {
        "id": "IKNI1DjJp6up"
      },
      "execution_count": 158,
      "outputs": []
    },
    {
      "cell_type": "markdown",
      "source": [
        "Creating a feature which could be important - Markets are only open between Monday and Friday"
      ],
      "metadata": {
        "id": "jmi0oFZbp6x-"
      }
    },
    {
      "cell_type": "code",
      "source": [
        "mon_fri_list = [0,4]\n",
        "new_data['mon_fri'] = new_data['day_week'].map(lambda x: 1 if x in mon_fri_list  else 0)"
      ],
      "metadata": {
        "id": "b501sitVp616"
      },
      "execution_count": 159,
      "outputs": []
    },
    {
      "cell_type": "markdown",
      "source": [
        "Changing index in data"
      ],
      "metadata": {
        "id": "MLB8pTqtp65I"
      }
    },
    {
      "cell_type": "code",
      "source": [
        "new_data.index = new_data['Date']\n",
        "new_data.drop('Date', inplace=True, axis=1)"
      ],
      "metadata": {
        "id": "O_wx3pkup7VY"
      },
      "execution_count": 160,
      "outputs": []
    },
    {
      "cell_type": "markdown",
      "source": [
        "Creating 'lags' which will define the auto-correlaton effect between past observations"
      ],
      "metadata": {
        "id": "hyb9eoKop7c9"
      }
    },
    {
      "cell_type": "code",
      "source": [
        "for i in range(1, 22):\n",
        "    new_data[\"lag_{}\".format(i)] = new_data.Close.shift(i)"
      ],
      "metadata": {
        "id": "ibJyAqMNp7jd"
      },
      "execution_count": 161,
      "outputs": []
    },
    {
      "cell_type": "markdown",
      "source": [
        "Creating dummies for chosen features"
      ],
      "metadata": {
        "id": "0wEvspJQp7n0"
      }
    },
    {
      "cell_type": "code",
      "source": [
        "cols = ['year', 'month', 'day_week', 'quarter', 'week', \n",
        "        'quarter_start', 'quarter_end', 'week_year', 'mon_fri', 'year_start', 'year_end',\n",
        "       'month_start', 'month_end', 'day_month']\n",
        "for i in cols:\n",
        "    new_data = pd.concat([new_data.drop([i], axis=1), \n",
        "        pd.get_dummies(new_data[i], prefix=i)\n",
        "    ], axis=1)"
      ],
      "metadata": {
        "id": "R80x1tx1p7s6"
      },
      "execution_count": 162,
      "outputs": []
    },
    {
      "cell_type": "markdown",
      "source": [
        "Removing NaN values"
      ],
      "metadata": {
        "id": "4LPWF2whp7xC"
      }
    },
    {
      "cell_type": "code",
      "source": [
        "new_data = new_data.dropna()\n",
        "new_data = new_data.reset_index(drop=True)"
      ],
      "metadata": {
        "id": "aQVdR89Qp71w"
      },
      "execution_count": 163,
      "outputs": []
    },
    {
      "cell_type": "markdown",
      "source": [
        "Creating splitting index"
      ],
      "metadata": {
        "id": "1rLmB5Ltp76A"
      }
    },
    {
      "cell_type": "code",
      "source": [
        "test_index = int(len(new_data) * 0.95)"
      ],
      "metadata": {
        "id": "wd03FI3Fp7-m"
      },
      "execution_count": 164,
      "outputs": []
    },
    {
      "cell_type": "markdown",
      "source": [
        "Splitting dataset on train and test"
      ],
      "metadata": {
        "id": "LQCGprkEp8Cz"
      }
    },
    {
      "cell_type": "code",
      "source": [
        "X_train = new_data.loc[:test_index-1].drop(['Close'], axis=1)\n",
        "y_train = new_data.loc[:test_index-1][\"Close\"]\n",
        "X_test = new_data.loc[test_index+1:].drop([\"Close\"], axis=1)\n",
        "y_test = new_data.loc[test_index+1:][\"Close\"]  "
      ],
      "metadata": {
        "id": "gnt25e7bp8H-"
      },
      "execution_count": 165,
      "outputs": []
    },
    {
      "cell_type": "markdown",
      "source": [
        "# **Model prediction for future**"
      ],
      "metadata": {
        "id": "KFTsXO6VvnvP"
      }
    },
    {
      "cell_type": "code",
      "source": [
        "forecast_out = int(math.ceil(0.001*len(new_data)))\n",
        "X_lately = X_test[-forecast_out:]\n",
        "ridge = Ridge(max_iter=10000, random_state=17)\n",
        "ridge.fit(X_train, y_train)\n",
        "y_predict = ridge.predict(X_lately)"
      ],
      "metadata": {
        "id": "3hHDd8OJvn0w"
      },
      "execution_count": 166,
      "outputs": []
    },
    {
      "cell_type": "markdown",
      "source": [
        "Scaling the data"
      ],
      "metadata": {
        "id": "HyhpTjPBvn8E"
      }
    },
    {
      "cell_type": "code",
      "source": [
        "scaler = StandardScaler()\n",
        "X_train_scaled = scaler.fit_transform(X_train)\n",
        "X_test_scaled = scaler.transform(X_test)"
      ],
      "metadata": {
        "id": "t_2J37wuvoDC"
      },
      "execution_count": 167,
      "outputs": []
    },
    {
      "cell_type": "markdown",
      "source": [
        "Creating Ridge model"
      ],
      "metadata": {
        "id": "A8lUr_ZdvoHa"
      }
    },
    {
      "cell_type": "code",
      "source": [
        "ridge = Ridge(max_iter=10000, random_state=17)\n",
        "ridge.fit(X_train_scaled, y_train)\n",
        "y_pred = ridge.predict(X_test_scaled)"
      ],
      "metadata": {
        "id": "-naEld1XvoMm"
      },
      "execution_count": 168,
      "outputs": []
    },
    {
      "cell_type": "markdown",
      "source": [
        "Creating DataFrame of final version"
      ],
      "metadata": {
        "id": "ekGSXL_kvoRC"
      }
    },
    {
      "cell_type": "code",
      "source": [
        "columns = ['Close_actual', 'Close_pred']\n",
        "df_pred_ridge = pd.DataFrame(columns = columns)\n",
        "df_pred_ridge.Close_actual = y_test\n",
        "df_pred_ridge.Close_pred = y_pred\n",
        "a = []\n",
        "for i in range(df_pred_ridge.index[-1], df_pred_ridge.index[-1]+forecast_out):\n",
        "    a.append(i)\n",
        "abc = pd.DataFrame({'Future': y_predict}, index = a)\n",
        "df_final = pd.concat([df_pred_ridge, abc], axis=1)"
      ],
      "metadata": {
        "id": "x07ep0QcvoV6"
      },
      "execution_count": 169,
      "outputs": []
    },
    {
      "cell_type": "markdown",
      "source": [
        "# **Visualizing the data**"
      ],
      "metadata": {
        "id": "dcRnD_A_voZ-"
      }
    },
    {
      "cell_type": "code",
      "source": [
        "plt.figure(figsize=(16, 8))\n",
        "plt.plot(df_final.Close_pred, linewidth = 1.0)\n",
        "plt.plot(df_final.Close_actual, linewidth = 1.0)\n",
        "plt.plot(df_final.Future, linewidth = 1.0)\n",
        "plt.xlabel('Days', fontsize=18)\n",
        "plt.ylabel('Price ($)', fontsize = 18)\n",
        "plt.legend(['Predictions',  'Actual', 'Future'], loc='lower right')\n",
        "plt.title('Ridge model price prediction for {}'.format(company))\n",
        "plt.show()"
      ],
      "metadata": {
        "colab": {
          "base_uri": "https://localhost:8080/",
          "height": 558
        },
        "id": "YBFODHv8voeu",
        "outputId": "7f707095-3d64-4580-9510-c1294bdf7313"
      },
      "execution_count": 170,
      "outputs": [
        {
          "output_type": "display_data",
          "data": {
            "text/plain": [
              "<Figure size 1152x576 with 1 Axes>"
            ],
            "image/png": "[encoded data removed]"
          },
          "metadata": {}
        }
      ]
    },
    {
      "cell_type": "markdown",
      "source": [
        "Getting the root mean squared error (RMSE) which is the standard deviation of the prediction errors"
      ],
      "metadata": {
        "id": "mIOpjfqXvoim"
      }
    },
    {
      "cell_type": "code",
      "source": [
        "print('Mean absolute sqaured error is: {}'.format(mean_squared_error(y_test, y_pred)))"
      ],
      "metadata": {
        "colab": {
          "base_uri": "https://localhost:8080/"
        },
        "id": "um336cHWvom2",
        "outputId": "24fc5ceb-50b0-4831-80e1-de0768a12075"
      },
      "execution_count": 171,
      "outputs": [
        {
          "output_type": "stream",
          "name": "stdout",
          "text": [
            "Mean absolute sqaured error is: 8.503401763212365\n"
          ]
        }
      ]
    },
    {
      "cell_type": "markdown",
      "source": [
        "Creating the value which is a correlation between real price and our model predicted price"
      ],
      "metadata": {
        "id": "Rcy33nJfvoqs"
      }
    },
    {
      "cell_type": "code",
      "source": [
        "corr_price, p = stats.pearsonr(df_pred_ridge.Close_actual.values, df_pred_ridge.Close_pred.values)\n",
        "print(\"Correlation between actual price and predicted by our model price is: {}\".format(corr_price))"
      ],
      "metadata": {
        "colab": {
          "base_uri": "https://localhost:8080/"
        },
        "id": "JxlGlPotvouw",
        "outputId": "8354e4ce-2586-480d-b980-de3fa8c3ce98"
      },
      "execution_count": 172,
      "outputs": [
        {
          "output_type": "stream",
          "name": "stdout",
          "text": [
            "Correlation between actual price and predicted by our model price is: 0.9820498259213808\n"
          ]
        }
      ]
    },
    {
      "cell_type": "markdown",
      "source": [
        "# **Creating summarizing data frame**"
      ],
      "metadata": {
        "id": "KxdytYMmvoyx"
      }
    },
    {
      "cell_type": "code",
      "source": [
        "df_pred_ridge['diff'] = df_pred_ridge.Close_actual - df_pred_ridge.Close_pred\n",
        "df_pred_ridge['perc_diff'] = ((df_pred_ridge['diff']) / (df_pred_ridge['Close_pred']))*100\n",
        "print(df_pred_ridge)"
      ],
      "metadata": {
        "colab": {
          "base_uri": "https://localhost:8080/"
        },
        "id": "N1sc3Ervvo2s",
        "outputId": "4577d6ad-5bd6-4331-c140-321de90a10b0"
      },
      "execution_count": 173,
      "outputs": [
        {
          "output_type": "stream",
          "name": "stdout",
          "text": [
            "     Close_actual  Close_pred      diff perc_diff\n",
            "5346    126.90815  131.653529 -4.745379 -3.604445\n",
            "5347   127.156303  128.596196 -1.439893 -1.119701\n",
            "5348   128.784225  127.261177  1.523049   1.19679\n",
            "5349   129.470322  128.762042  0.708279  0.550068\n",
            "5350   126.129387  129.262002 -3.132615 -2.423462\n",
            "...           ...         ...       ...       ...\n",
            "5622   148.710007  145.045405  3.664602  2.526521\n",
            "5623   147.960007  146.769617   1.19039   0.81106\n",
            "5624   142.639999  147.944688 -5.304689 -3.585589\n",
            "5625   137.130005  143.355860 -6.225855 -4.342937\n",
            "5626   131.880005  138.596644 -6.716639 -4.846177\n",
            "\n",
            "[281 rows x 4 columns]\n"
          ]
        }
      ]
    },
    {
      "cell_type": "markdown",
      "source": [
        "Final result summary"
      ],
      "metadata": {
        "id": "TO5DY9RZvo6p"
      }
    },
    {
      "cell_type": "code",
      "source": [
        "print('Model predicted for today close: {}, current price is: {}'.format(round(df_pred_ridge['Close_pred'].iat[-1], 2), round(df_pred_ridge['Close_actual'].iat[-1], 2)))\n"
      ],
      "metadata": {
        "colab": {
          "base_uri": "https://localhost:8080/"
        },
        "id": "IapWDCyMvo_E",
        "outputId": "60441f23-a8d2-4b2e-c65b-a31e80a00568"
      },
      "execution_count": 174,
      "outputs": [
        {
          "output_type": "stream",
          "name": "stdout",
          "text": [
            "Model predicted for today close: 138.6, current price is: 131.88\n"
          ]
        }
      ]
    },
    {
      "cell_type": "code",
      "source": [
        "print(df_final)"
      ],
      "metadata": {
        "colab": {
          "base_uri": "https://localhost:8080/"
        },
        "id": "dt4-htl6vpGU",
        "outputId": "384db3c8-5d88-472b-bb8c-4560aa55b8ab"
      },
      "execution_count": 175,
      "outputs": [
        {
          "output_type": "stream",
          "name": "stdout",
          "text": [
            "     Close_actual  Close_pred      Future\n",
            "5346    126.90815  131.653529         NaN\n",
            "5347   127.156303  128.596196         NaN\n",
            "5348   128.784225  127.261177         NaN\n",
            "5349   129.470322  128.762042         NaN\n",
            "5350   126.129387  129.262002         NaN\n",
            "...           ...         ...         ...\n",
            "5627          NaN         NaN  145.054468\n",
            "5628          NaN         NaN  147.313801\n",
            "5629          NaN         NaN  148.832061\n",
            "5630          NaN         NaN  142.545867\n",
            "5631          NaN         NaN  138.006845\n",
            "\n",
            "[286 rows x 3 columns]\n"
          ]
        }
      ]
    }
  ]
}